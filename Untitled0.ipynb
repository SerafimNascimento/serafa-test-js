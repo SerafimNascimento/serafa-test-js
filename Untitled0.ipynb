{
  "nbformat": 4,
  "nbformat_minor": 0,
  "metadata": {
    "colab": {
      "name": "Untitled0.ipynb",
      "provenance": [],
      "include_colab_link": true
    },
    "kernelspec": {
      "name": "python3",
      "display_name": "Python 3"
    },
    "language_info": {
      "name": "python"
    }
  },
  "cells": [
    {
      "cell_type": "markdown",
      "metadata": {
        "id": "view-in-github",
        "colab_type": "text"
      },
      "source": [
        "<a href=\"https://colab.research.google.com/github/SerafimNascimento/serafa-test-js/blob/main/Untitled0.ipynb\" target=\"_parent\"><img src=\"https://colab.research.google.com/assets/colab-badge.svg\" alt=\"Open In Colab\"/></a>"
      ]
    },
    {
      "cell_type": "code",
      "metadata": {
        "id": "vEqobWAqdjDI"
      },
      "source": [
        ""
      ],
      "execution_count": null,
      "outputs": []
    },
    {
      "cell_type": "code",
      "metadata": {
        "id": "LwJfimvjd864"
      },
      "source": [
        ""
      ],
      "execution_count": null,
      "outputs": []
    },
    {
      "cell_type": "markdown",
      "metadata": {
        "id": "lvj8pFqHd9Fu"
      },
      "source": [
        "Olá Mundo!"
      ]
    },
    {
      "cell_type": "markdown",
      "metadata": {
        "id": "F16GuVtBeQ4S"
      },
      "source": [
        "# Capítulo 1"
      ]
    },
    {
      "cell_type": "markdown",
      "metadata": {
        "id": "naVLv2glek1a"
      },
      "source": [
        "# Capítulo 2"
      ]
    }
  ]
}